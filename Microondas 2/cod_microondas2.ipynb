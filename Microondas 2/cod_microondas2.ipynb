{
 "cells": [
  {
   "cell_type": "code",
   "execution_count": 69,
   "metadata": {},
   "outputs": [
    {
     "data": {
      "text/html": [
       "<style>.container { width:90% !important; }</style>"
      ],
      "text/plain": [
       "<IPython.core.display.HTML object>"
      ]
     },
     "metadata": {},
     "output_type": "display_data"
    }
   ],
   "source": [
    "from IPython.display import display, HTML\n",
    "display(HTML(\"<style>.container { width:90% !important; }</style>\"))\n",
    "\n",
    "import numpy as np\n",
    "import matplotlib.pyplot as plt\n",
    "import sympy as sym\n",
    "import pandas as pd\n",
    "import openpyxl\n",
    "import scipy.optimize\n",
    "\n",
    "from scipy.stats import norm\n",
    "from scipy.stats import t\n",
    "from scipy.stats import chi2"
   ]
  },
  {
   "cell_type": "markdown",
   "metadata": {},
   "source": [
    "# Refracción de microondas"
   ]
  },
  {
   "cell_type": "code",
   "execution_count": 70,
   "metadata": {},
   "outputs": [],
   "source": [
    "def Minimos_cuadrados(x,y,n=1):\n",
    "    l = x.shape[0]\n",
    "    b = y\n",
    "    \n",
    "    A = np.ones((l,n+1))\n",
    "    \n",
    "    for i in range(1,n+1):\n",
    "        A[:,i] = x**i\n",
    "        \n",
    "    AT = np.dot(A.T,A)\n",
    "    bT = np.dot(A.T,b)\n",
    "\n",
    "    xsol = np.linalg.solve(AT,bT)\n",
    "    \n",
    "    return xsol\n",
    "\n",
    "def GetModel(x,p):\n",
    "    \n",
    "    y = 0.\n",
    "    for i in range(len(p)):\n",
    "        y += p[i]*x**i\n",
    "        \n",
    "    return y\n",
    "\n",
    "def GetError(x,y,p,n=1):\n",
    "    \n",
    "    l = x.shape[0]\n",
    "    \n",
    "    A = np.ones((l,n+1))\n",
    "    \n",
    "    for i in range(1,n+1):\n",
    "        A[:,i] = x**i\n",
    "        \n",
    "    # Residuos\n",
    "    R = y - np.dot(A,p)\n",
    "    \n",
    "    sigma2 = np.dot(R.T,R)/(len(y)-len(p))\n",
    "    \n",
    "    Cov = sigma2*np.linalg.inv(np.dot(A.T,A))\n",
    "    \n",
    "    R2 = None\n",
    "    if np.shape(Cov) == (2,2):\n",
    "        R2 = (Cov[0][1]**2)/(Cov[0][0]*Cov[1][1])\n",
    "\n",
    "    return (Cov,R2,R)\n",
    "\n",
    "def Get_sigma(Cov):\n",
    "    sigmaai = np.sqrt(np.diagonal(Cov))\n",
    "    return sigmaai[::-1]\n",
    "\n",
    "def Error_relativo(X_real,X_exp):\n",
    "    return (np.abs(X_exp - X_real)/X_real)\n",
    "\n",
    "def presicion(d,v):\n",
    "    p = (d/v)\n",
    "    if p <= 0.1:\n",
    "        return p,True\n",
    "    else:\n",
    "        return p,False\n",
    "    \n",
    "def exactitud(xr,xm,d):\n",
    "    e = (np.abs(xr-xm))\n",
    "    if e <= (2.5*d):\n",
    "        return e/d,True\n",
    "    else:\n",
    "        return e/d,False\n",
    "\n",
    "X = sym.Symbol('x',real=True)\n",
    "Y = sym.Symbol('y',real=True)"
   ]
  },
  {
   "cell_type": "markdown",
   "metadata": {},
   "source": [
    "# Datos"
   ]
  },
  {
   "cell_type": "code",
   "execution_count": 71,
   "metadata": {},
   "outputs": [
    {
     "name": "stdout",
     "output_type": "stream",
     "text": [
      "   1 rendija  Unnamed: 1      Unnamed: 2  Unnamed: 3  Unnamed: 4  2 rendijas  \\\n",
      "0         NaN      grado  amplitd microA         NaN         NaN         NaN   \n",
      "1         NaN        -15              30         NaN         NaN         NaN   \n",
      "2         NaN        -14              31         NaN         NaN         NaN   \n",
      "3         NaN        -13              31         NaN         NaN         NaN   \n",
      "4         NaN        -12              31         NaN         NaN         NaN   \n",
      "\n",
      "  Unnamed: 6       Unnamed: 7  \n",
      "0      grdos  amplitud microA  \n",
      "1          0               43  \n",
      "2          5               33  \n",
      "3         10               15  \n",
      "4         15                0  \n"
     ]
    }
   ],
   "source": [
    "wb = openpyxl.load_workbook(r\"C:\\Users\\ASUS\\OneDrive\\Uniandes\\Física\\Ondas y Fluidos\\Lab_OyF\\Microondas 2/experimento 11.xlsx\")\n",
    "datos = pd.read_excel(io = r\"C:\\Users\\ASUS\\OneDrive\\Uniandes\\Física\\Ondas y Fluidos\\Lab_OyF\\Microondas 2/experimento 11.xlsx\", header=0,sheet_name='Hoja1',names=None,index_col=None,usecols='A:H',engine='openpyxl')\n",
    "print(datos.head())"
   ]
  },
  {
   "cell_type": "code",
   "execution_count": 72,
   "metadata": {},
   "outputs": [],
   "source": [
    "datos_ = datos.values\n",
    "datos_np = np.float64(np.transpose(datos_[1:,:]))"
   ]
  },
  {
   "cell_type": "markdown",
   "metadata": {},
   "source": [
    "- 1 rendija:"
   ]
  },
  {
   "cell_type": "code",
   "execution_count": 73,
   "metadata": {},
   "outputs": [
    {
     "data": {
      "text/plain": [
       "array([-0.0203276 , -0.0190005 , -0.01766761, -0.01632935, -0.0149861 ,\n",
       "       -0.0136383 , -0.01228633, -0.01093063, -0.0095716 , -0.00820965,\n",
       "       -0.0068452 , -0.00547866, -0.00411046, -0.002741  , -0.00137071,\n",
       "        0.        ,  0.00137071,  0.002741  ,  0.00411046,  0.00547866,\n",
       "        0.0068452 ,  0.00820965,  0.0095716 ,  0.01093063,  0.01228633,\n",
       "        0.0136383 ,  0.0149861 ,  0.01632935,  0.01766761,  0.0190005 ,\n",
       "        0.0203276 ])"
      ]
     },
     "execution_count": 73,
     "metadata": {},
     "output_type": "execute_result"
    }
   ],
   "source": [
    "grados = datos_np[1]*(np.pi/180)\n",
    "Amplitud = datos_np[2]\n",
    "a = 2.5*(10**(-2)) #m\n",
    "x1 = np.pi*a*np.sin(grados)\n",
    "x1"
   ]
  },
  {
   "cell_type": "code",
   "execution_count": 74,
   "metadata": {},
   "outputs": [
    {
     "data": {
      "text/plain": [
       "<matplotlib.collections.PathCollection at 0x12a9fd90e80>"
      ]
     },
     "execution_count": 74,
     "metadata": {},
     "output_type": "execute_result"
    },
    {
     "data": {
      "image/png": "[encoded data removed]",
      "text/plain": [
       "<Figure size 432x288 with 1 Axes>"
      ]
     },
     "metadata": {
      "needs_background": "light"
     },
     "output_type": "display_data"
    }
   ],
   "source": [
    "plt.scatter(x1,Amplitud)"
   ]
  },
  {
   "cell_type": "markdown",
   "metadata": {},
   "source": [
    "def I(x,I0,lamb): return ((I0*(lamb**2))/(x**2))*(np.sin(x/lamb)**2)\n",
    "popt,pcov = scipy.optimize.curve_fit(I,x1,Amplitud)\n",
    "I0,lamb = popt\n",
    "fitfunc = lambda x: ((I0*(lamb**2))/(x**2))*(np.sin(x/lamb)**2)"
   ]
  },
  {
   "cell_type": "markdown",
   "metadata": {},
   "source": [
    "def I(x,I0,lamb): return I0*((np.sin(x/lamb))/(x/lamb))**2\n",
    "popt,pcov = scipy.optimize.curve_fit(I,x1,Amplitud)\n",
    "I0,lamb = popt\n",
    "fitfunc = lambda x: I0*((np.sin(x/lamb))/(x/lamb))**2"
   ]
  },
  {
   "cell_type": "markdown",
   "metadata": {},
   "source": [
    "- 2 rendijas:"
   ]
  },
  {
   "cell_type": "code",
   "execution_count": 75,
   "metadata": {},
   "outputs": [
    {
     "data": {
      "text/plain": [
       "array([0.        , 0.0068452 , 0.0136383 , 0.0203276 , 0.0268622 ,\n",
       "       0.03319236, 0.03926991, 0.04504859, 0.05048442, 0.05553604,\n",
       "       0.06016499, 0.06433605, 0.06801748, 0.07118125, 0.07380329,\n",
       "       0.07586364, 0.07734662,        nan,        nan,        nan,\n",
       "              nan,        nan,        nan,        nan,        nan,\n",
       "              nan,        nan,        nan,        nan,        nan,\n",
       "              nan])"
      ]
     },
     "execution_count": 75,
     "metadata": {},
     "output_type": "execute_result"
    }
   ],
   "source": [
    "grados2 = datos_np[6]*(np.pi/180)\n",
    "Amplitud2 = datos_np[7]\n",
    "x2 = np.pi*a*np.sin(grados2)\n",
    "x2"
   ]
  },
  {
   "cell_type": "code",
   "execution_count": 76,
   "metadata": {},
   "outputs": [
    {
     "data": {
      "text/plain": [
       "<matplotlib.collections.PathCollection at 0x12a9fdf3f70>"
      ]
     },
     "execution_count": 76,
     "metadata": {},
     "output_type": "execute_result"
    },
    {
     "data": {
      "image/png": "[encoded data removed]",
      "text/plain": [
       "<Figure size 432x288 with 1 Axes>"
      ]
     },
     "metadata": {
      "needs_background": "light"
     },
     "output_type": "display_data"
    }
   ],
   "source": [
    "plt.scatter(x2,Amplitud2)"
   ]
  }
 ],
 "metadata": {
  "kernelspec": {
   "display_name": "base",
   "language": "python",
   "name": "python3"
  },
  "language_info": {
   "codemirror_mode": {
    "name": "ipython",
    "version": 3
   },
   "file_extension": ".py",
   "mimetype": "text/x-python",
   "name": "python",
   "nbconvert_exporter": "python",
   "pygments_lexer": "ipython3",
   "version": "3.9.7"
  }
 },
 "nbformat": 4,
 "nbformat_minor": 2
}
