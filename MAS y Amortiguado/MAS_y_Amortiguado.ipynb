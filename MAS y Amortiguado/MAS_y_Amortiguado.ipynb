{
 "cells": [
  {
   "cell_type": "code",
   "execution_count": 18,
   "metadata": {},
   "outputs": [
    {
     "data": {
      "text/html": [
       "<style>.container { width:90% !important; }</style>"
      ],
      "text/plain": [
       "<IPython.core.display.HTML object>"
      ]
     },
     "metadata": {},
     "output_type": "display_data"
    }
   ],
   "source": [
    "from IPython.display import display, HTML\n",
    "display(HTML(\"<style>.container { width:90% !important; }</style>\"))\n",
    "\n",
    "import numpy as np\n",
    "import matplotlib.pyplot as plt\n",
    "import sympy as sym\n",
    "\n",
    "from scipy.stats import norm\n",
    "from scipy.stats import t\n",
    "from scipy.stats import chi2"
   ]
  },
  {
   "cell_type": "code",
   "execution_count": 19,
   "metadata": {},
   "outputs": [],
   "source": [
    "def Minimos_cuadrados(x,y,n=1):\n",
    "    l = x.shape[0]\n",
    "    b = y\n",
    "    \n",
    "    A = np.ones((l,n+1))\n",
    "    \n",
    "    for i in range(1,n+1):\n",
    "        A[:,i] = x**i\n",
    "        \n",
    "    AT = np.dot(A.T,A)\n",
    "    bT = np.dot(A.T,b)\n",
    "\n",
    "    xsol = np.linalg.solve(AT,bT)\n",
    "    \n",
    "    return xsol\n",
    "\n",
    "def GetModel(x,p):\n",
    "    \n",
    "    y = 0.\n",
    "    for i in range(len(p)):\n",
    "        y += p[i]*x**i\n",
    "        \n",
    "    return y\n",
    "\n",
    "def GetError(x,y,p,n=1):\n",
    "    \n",
    "    l = x.shape[0]\n",
    "    \n",
    "    A = np.ones((l,n+1))\n",
    "    \n",
    "    for i in range(1,n+1):\n",
    "        A[:,i] = x**i\n",
    "        \n",
    "    # Residuos\n",
    "    R = y - np.dot(A,p)\n",
    "    \n",
    "    sigma2 = np.dot(R.T,R)/(len(y)-len(p))\n",
    "    \n",
    "    Cov = sigma2*np.linalg.inv(np.dot(A.T,A))\n",
    "    \n",
    "    R2 = None\n",
    "    if np.shape(Cov) == (2,2):\n",
    "        R2 = (Cov[0][1]**2)/(Cov[0][0]*Cov[1][1])\n",
    "\n",
    "    return (Cov,R2,R)\n",
    "\n",
    "def Get_sigma(Cov):\n",
    "    sigmaai = np.sqrt(np.diagonal(Cov))\n",
    "    return sigmaai[::-1]\n",
    "\n",
    "def Error_porcentual(X_real,X_exp):\n",
    "    return (np.abs(X_exp - X_real)/X_real)\n",
    "\n",
    "def presicion(d,v):\n",
    "    p = (d/v)\n",
    "    if p <= 0.1:\n",
    "        return p,True\n",
    "    else:\n",
    "        return p,False\n",
    "    \n",
    "def exactitud(xr,xm,d):\n",
    "    e = (np.abs(xr-xm))\n",
    "    if e <= (2.5*d):\n",
    "        return e,True\n",
    "    else:\n",
    "        return e,False\n",
    "\n",
    "X = sym.Symbol('x',real=True)\n",
    "Y = sym.Symbol('y',real=True)"
   ]
  },
  {
   "cell_type": "markdown",
   "metadata": {},
   "source": [
    "# Movimiento armónico simple y oscilador amortiguado"
   ]
  },
  {
   "cell_type": "code",
   "execution_count": 20,
   "metadata": {},
   "outputs": [],
   "source": [
    "g = 9.76871 #m/s^2\n",
    "\n",
    "def w_0(m,l,I,g=9.76871):\n",
    "    return np.sqrt((m*g*l)/I)\n",
    "\n",
    "def T_0(w0):\n",
    "    return (2*np.pi)/w0\n",
    "\n",
    "def gamma(b,l,I):\n",
    "    return (b*(l**2))/I\n",
    "\n",
    "def I_esfera(m,r,l):\n",
    "    return (((5/2)*m*(r**2)) + (m(l**2)))\n",
    "\n",
    "def omega_prima(w0,gamma):\n",
    "    return np.sqrt((w0**2) - ((gamma**2)/4))\n",
    "\n",
    "def T_prima(wp):\n",
    "    return (2*np.pi)/wp\n",
    "\n",
    "def graficar_MAS(A,w0,phi=0):\n",
    "    t = 3*(T_0(w0))\n",
    "    t = np.linspace(0,t,61)\n",
    "    x = A*np.cos(w0*t + phi)\n",
    "    plt.plot(t,x)\n",
    "    plt.axhline(y=0, color='black', linestyle='--')\n",
    "    plt.show()\n",
    "    fig = plt.gcf()\n",
    "    return fig\n",
    "\n",
    "def graficar_amortiguado(A0,gamma,w_prima,phi=0):\n",
    "    t = 3*(T_prima(w_prima))\n",
    "    t = np.linspace(0,t,61)\n",
    "    x = A0*np.exp((-gamma/2)*t)*np.cos(w_prima*t + phi)\n",
    "    plt.plot(t,x)\n",
    "    plt.axhline(y=0, color='black', linestyle='--')\n",
    "    plt.show()\n",
    "    fig = plt.gcf()\n",
    "    return fig"
   ]
  },
  {
   "cell_type": "markdown",
   "metadata": {},
   "source": [
    "# Datos"
   ]
  },
  {
   "cell_type": "code",
   "execution_count": 21,
   "metadata": {},
   "outputs": [],
   "source": [
    "h = np.array([1.5, 1.35, 1.2, 1.05, 0.9, 0.75]) #m\n",
    "\n",
    "#Cobre\n",
    "m_cobre = 0.05 #Kg\n",
    "T = np.array([2.47, 2.36, 2.21, 2.04, 1.91, 1.74]) #s\n",
    "\n",
    "#Icopor\n",
    "m_icopor = 0.0414 #Kg\n",
    "g = np.array([0.012, 0.013, 0.01, 0.009, 0.01, 0.01]) #?\n",
    "w = np.array([2.478, 2.611, 2.774, 2.971, 3.172, 3.467]) #rad/s"
   ]
  },
  {
   "cell_type": "markdown",
   "metadata": {},
   "source": [
    "# Análisis"
   ]
  },
  {
   "cell_type": "code",
   "execution_count": null,
   "metadata": {},
   "outputs": [],
   "source": []
  }
 ],
 "metadata": {
  "kernelspec": {
   "display_name": "base",
   "language": "python",
   "name": "python3"
  },
  "language_info": {
   "codemirror_mode": {
    "name": "ipython",
    "version": 3
   },
   "file_extension": ".py",
   "mimetype": "text/x-python",
   "name": "python",
   "nbconvert_exporter": "python",
   "pygments_lexer": "ipython3",
   "version": "3.9.7"
  }
 },
 "nbformat": 4,
 "nbformat_minor": 2
}
