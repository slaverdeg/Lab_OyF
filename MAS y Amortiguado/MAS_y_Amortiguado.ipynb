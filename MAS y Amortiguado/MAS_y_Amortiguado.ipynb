{
 "cells": [
  {
   "cell_type": "code",
   "execution_count": 111,
   "metadata": {},
   "outputs": [
    {
     "data": {
      "text/html": [
       "<style>.container { width:90% !important; }</style>"
      ],
      "text/plain": [
       "<IPython.core.display.HTML object>"
      ]
     },
     "metadata": {},
     "output_type": "display_data"
    }
   ],
   "source": [
    "from IPython.display import display, HTML\n",
    "display(HTML(\"<style>.container { width:90% !important; }</style>\"))\n",
    "\n",
    "import numpy as np\n",
    "import matplotlib.pyplot as plt\n",
    "import sympy as sym\n",
    "\n",
    "from scipy.stats import norm\n",
    "from scipy.stats import t\n",
    "from scipy.stats import chi2"
   ]
  },
  {
   "cell_type": "code",
   "execution_count": 112,
   "metadata": {},
   "outputs": [],
   "source": [
    "sgm = sym.Symbol('sigma',real=True)\n",
    "X = sym.Symbol('x',real=True)\n",
    "Y = sym.Symbol('y',real=True)\n",
    "\n",
    "def Minimos_cuadrados(x,y,n=1):\n",
    "    l = x.shape[0]\n",
    "    b = y\n",
    "    \n",
    "    A = np.ones((l,n+1))\n",
    "    \n",
    "    for i in range(1,n+1):\n",
    "        A[:,i] = x**i\n",
    "        \n",
    "    AT = np.dot(A.T,A)\n",
    "    bT = np.dot(A.T,b)\n",
    "\n",
    "    xsol = np.linalg.solve(AT,bT)\n",
    "    \n",
    "    return xsol\n",
    "\n",
    "def GetModel(x,p):\n",
    "    \n",
    "    y = 0.\n",
    "    for i in range(len(p)):\n",
    "        y += p[i]*x**i\n",
    "        \n",
    "    return y\n",
    "\n",
    "def GetError(x,y,p,n=1):\n",
    "    \n",
    "    l = x.shape[0]\n",
    "    \n",
    "    A = np.ones((l,n+1))\n",
    "    \n",
    "    for i in range(1,n+1):\n",
    "        A[:,i] = x**i\n",
    "        \n",
    "    # Residuos\n",
    "    R = y - np.dot(A,p)\n",
    "    \n",
    "    sigma2 = np.dot(R.T,R)/(len(y)-len(p))\n",
    "    \n",
    "    Cov = sigma2*np.linalg.inv(np.dot(A.T,A))\n",
    "    \n",
    "    R2 = None\n",
    "    if np.shape(Cov) == (2,2):\n",
    "        R2 = (Cov[0][1]**2)/(Cov[0][0]*Cov[1][1])\n",
    "\n",
    "    return (Cov,R2,R)\n",
    "\n",
    "def Get_sigma(Cov):\n",
    "    sigmaai = np.sqrt(np.diagonal(Cov))\n",
    "    return sigmaai[::-1]\n",
    "\n",
    "def Error_porcentual(X_real,X_exp):\n",
    "    return (np.abs(X_exp - X_real)/X_real)\n",
    "\n",
    "def presicion(d,v):\n",
    "    p = (d/v)\n",
    "    if p <= 0.1:\n",
    "        return p,True\n",
    "    else:\n",
    "        return p,False\n",
    "    \n",
    "def exactitud(xr,xm,d):\n",
    "    e = (np.abs(xr-xm))\n",
    "    es = e/d\n",
    "    if e <= (2.5*d):\n",
    "        return sym.Matrix([round(e,1)*sgm,True])\n",
    "    else:\n",
    "        return sym.Matrix([round(e,1)*sgm,False])"
   ]
  },
  {
   "cell_type": "markdown",
   "metadata": {},
   "source": [
    "# Movimiento armónico simple y oscilador amortiguado"
   ]
  },
  {
   "cell_type": "code",
   "execution_count": 113,
   "metadata": {},
   "outputs": [],
   "source": [
    "g = 9.76871 #m/s^2\n",
    "\n",
    "def w_0(m,l,I,g=9.76871):\n",
    "    return np.sqrt((m*g*l)/I)\n",
    "\n",
    "def T_0(w0):\n",
    "    return (2*np.pi)/w0\n",
    "\n",
    "def gamma(b,l,I):\n",
    "    return (b*(l**2))/I\n",
    "\n",
    "def I_esfera(m,r,l):\n",
    "    return (((5/2)*m*(r**2)) + (m(l**2)))\n",
    "\n",
    "def omega_prima(w0,gamma):\n",
    "    return np.sqrt((w0**2) - ((gamma**2)/4))\n",
    "\n",
    "def T_prima(wp):\n",
    "    return (2*np.pi)/wp\n",
    "\n",
    "def graficar_MAS(A,w0,phi=0):\n",
    "    t = 3*(T_0(w0))\n",
    "    t = np.linspace(0,t,61)\n",
    "    x = A*np.cos(w0*t + phi)\n",
    "    plt.plot(t,x)\n",
    "    plt.axhline(y=0, color='black', linestyle='--')\n",
    "    plt.show()\n",
    "    fig = plt.gcf()\n",
    "    return fig\n",
    "\n",
    "def graficar_amortiguado(A0,gamma,w_prima,phi=0):\n",
    "    t = 3*(T_prima(w_prima))\n",
    "    t = np.linspace(0,t,61)\n",
    "    x = A0*np.exp((-gamma/2)*t)*np.cos(w_prima*t + phi)\n",
    "    plt.plot(t,x)\n",
    "    plt.axhline(y=0, color='black', linestyle='--')\n",
    "    plt.show()\n",
    "    fig = plt.gcf()\n",
    "    return fig"
   ]
  },
  {
   "cell_type": "markdown",
   "metadata": {},
   "source": [
    "# Datos"
   ]
  },
  {
   "cell_type": "code",
   "execution_count": 114,
   "metadata": {},
   "outputs": [],
   "source": [
    "l = np.array([1.5, 1.35, 1.2, 1.05, 0.9, 0.75]) #m\n",
    "\n",
    "#Cobre\n",
    "m_cobre = 0.05 #Kg\n",
    "T_ = np.array([2.47, 2.36, 2.21, 2.04, 1.91, 1.74]) #s\n",
    "\n",
    "#Icopor\n",
    "m_icopor = 0.0414 #Kg\n",
    "gamma_ = np.array([0.012, 0.013, 0.01, 0.009, 0.01, 0.01]) #?\n",
    "w = np.array([2.478, 2.611, 2.774, 2.971, 3.172, 3.467]) #rad/s"
   ]
  },
  {
   "cell_type": "code",
   "execution_count": 115,
   "metadata": {},
   "outputs": [
    {
     "data": {
      "text/plain": [
       "array([2.47, 2.36, 2.21, 2.04, 1.91, 1.74])"
      ]
     },
     "execution_count": 115,
     "metadata": {},
     "output_type": "execute_result"
    }
   ],
   "source": [
    "T_"
   ]
  },
  {
   "cell_type": "markdown",
   "metadata": {},
   "source": [
    "# Análisis"
   ]
  },
  {
   "cell_type": "code",
   "execution_count": 116,
   "metadata": {},
   "outputs": [
    {
     "data": {
      "text/plain": [
       "array([2.46, 2.34, 2.2 , 2.06, 1.91, 1.74])"
      ]
     },
     "execution_count": 116,
     "metadata": {},
     "output_type": "execute_result"
    }
   ],
   "source": [
    "T_teo = 2*np.pi*(np.sqrt(l/g))\n",
    "np.round(T_teo,2)"
   ]
  },
  {
   "cell_type": "code",
   "execution_count": 117,
   "metadata": {},
   "outputs": [
    {
     "data": {
      "text/plain": [
       "array([0.00789319, 0.02424039, 0.00782472, 0.01994635, 0.00286027,\n",
       "       0.00097242])"
      ]
     },
     "execution_count": 117,
     "metadata": {},
     "output_type": "execute_result"
    }
   ],
   "source": [
    "np.abs(T_teo-T_)"
   ]
  },
  {
   "cell_type": "code",
   "execution_count": 118,
   "metadata": {},
   "outputs": [
    {
     "data": {
      "text/plain": [
       "array([2.54379972, 2.66236666, 2.84307027, 3.0799928 , 3.28962582,\n",
       "       3.61102604])"
      ]
     },
     "execution_count": 118,
     "metadata": {},
     "output_type": "execute_result"
    }
   ],
   "source": [
    "w0 = (2*np.pi)/T_\n",
    "w0"
   ]
  },
  {
   "cell_type": "code",
   "execution_count": 119,
   "metadata": {},
   "outputs": [
    {
     "data": {
      "text/plain": [
       "array([ 9.92798131, -0.16333113])"
      ]
     },
     "execution_count": 119,
     "metadata": {},
     "output_type": "execute_result"
    }
   ],
   "source": [
    "param = Minimos_cuadrados(1/l,w0**2)\n",
    "param[::-1]"
   ]
  },
  {
   "cell_type": "code",
   "execution_count": 120,
   "metadata": {},
   "outputs": [
    {
     "data": {
      "text/plain": [
       "0.9447230734344799"
      ]
     },
     "execution_count": 120,
     "metadata": {},
     "output_type": "execute_result"
    }
   ],
   "source": [
    "Cov,R2,r = GetError(1/l,w0**2,param)\n",
    "R2"
   ]
  },
  {
   "cell_type": "code",
   "execution_count": 121,
   "metadata": {},
   "outputs": [
    {
     "data": {
      "text/plain": [
       "array([0.20600891, 0.19914717])"
      ]
     },
     "execution_count": 121,
     "metadata": {},
     "output_type": "execute_result"
    }
   ],
   "source": [
    "deltas = Get_sigma(Cov)\n",
    "deltas"
   ]
  },
  {
   "cell_type": "code",
   "execution_count": 122,
   "metadata": {},
   "outputs": [],
   "source": [
    "error_x = 0.001\n",
    "error_y = np.sqrt((param[1]*error_x)**2 + ((1/l)*deltas[0])**2 + (deltas[1]**2)) "
   ]
  },
  {
   "cell_type": "code",
   "execution_count": 123,
   "metadata": {},
   "outputs": [],
   "source": [
    "_x = np.linspace(np.min(1/l),np.max(1/l))\n",
    "_y = GetModel(_x,param)"
   ]
  },
  {
   "cell_type": "code",
   "execution_count": 124,
   "metadata": {},
   "outputs": [
    {
     "data": {
      "image/png": "[encoded data removed]",
      "text/plain": [
       "<Figure size 864x576 with 2 Axes>"
      ]
     },
     "metadata": {
      "needs_background": "light"
     },
     "output_type": "display_data"
    }
   ],
   "source": [
    "fig, axs = plt.subplots(2, 1, figsize=(12, 8), gridspec_kw={'height_ratios': [1.5, 1]},sharex=True)\n",
    "fig.subplots_adjust(hspace=0)\n",
    "\n",
    "fig.suptitle('Gravedad')\n",
    "axs[0].scatter(1/l,w0**2,label='Datos',color='r',marker='x')\n",
    "axs[0].errorbar(1/l,w0**2, xerr= error_x, yerr= error_y, fmt='none', ecolor='black', label= 'Error')\n",
    "axs[0].plot(_x,_y,label='Modelo')\n",
    "axs[0].set_ylabel('$w_{0}^{2}$ (1/$s^{2}$)')\n",
    "axs[0].legend()\n",
    "\n",
    "axs[1].scatter(1/l,r)\n",
    "axs[1].axhline(y=0, color='black', linestyle='--')\n",
    "axs[1].set_xlabel('1/L (1/$m$)')\n",
    "axs[1].set_ylabel('Residual (1/$s^{2}$)')\n",
    "plt.show()"
   ]
  },
  {
   "cell_type": "code",
   "execution_count": 125,
   "metadata": {},
   "outputs": [
    {
     "data": {
      "text/latex": [
       "$\\displaystyle 9.92798 x - 0.16333$"
      ],
      "text/plain": [
       "9.92798*x - 0.16333"
      ]
     },
     "execution_count": 125,
     "metadata": {},
     "output_type": "execute_result"
    }
   ],
   "source": [
    "Y_ = GetModel(X,np.round(param,5))\n",
    "Y_"
   ]
  },
  {
   "cell_type": "code",
   "execution_count": 126,
   "metadata": {},
   "outputs": [
    {
     "data": {
      "text/plain": [
       "array([0.20601, 0.19915])"
      ]
     },
     "execution_count": 126,
     "metadata": {},
     "output_type": "execute_result"
    }
   ],
   "source": [
    "np.round(deltas,5)"
   ]
  },
  {
   "cell_type": "code",
   "execution_count": 127,
   "metadata": {},
   "outputs": [
    {
     "data": {
      "text/plain": [
       "0.01630423172574948"
      ]
     },
     "execution_count": 127,
     "metadata": {},
     "output_type": "execute_result"
    }
   ],
   "source": [
    "Error_porcentual(g,param[1])"
   ]
  },
  {
   "cell_type": "code",
   "execution_count": 128,
   "metadata": {},
   "outputs": [
    {
     "name": "stderr",
     "output_type": "stream",
     "text": [
      "c:\\Users\\ASUS\\anaconda3\\lib\\site-packages\\sympy\\matrices\\repmatrix.py:98: SymPyDeprecationWarning: \n",
      "\n",
      "non-Expr objects in a Matrix has been deprecated since SymPy 1.9. Use\n",
      "list of lists, TableForm or some other data structure instead. See\n",
      "https://github.com/sympy/sympy/issues/21497 for more info.\n",
      "\n",
      "  SymPyDeprecationWarning(\n"
     ]
    },
    {
     "data": {
      "text/latex": [
       "$\\displaystyle \\left[\\begin{matrix}0.2 \\sigma\\\\\\text{True}\\end{matrix}\\right]$"
      ],
      "text/plain": [
       "Matrix([\n",
       "[0.2*sigma],\n",
       "[     True]])"
      ]
     },
     "execution_count": 128,
     "metadata": {},
     "output_type": "execute_result"
    }
   ],
   "source": [
    "exactitud(g,param[1],deltas[0])"
   ]
  },
  {
   "cell_type": "code",
   "execution_count": 129,
   "metadata": {},
   "outputs": [
    {
     "data": {
      "text/plain": [
       "(0.020750332405988035, True)"
      ]
     },
     "execution_count": 129,
     "metadata": {},
     "output_type": "execute_result"
    }
   ],
   "source": [
    "presicion(deltas[0],param[1])"
   ]
  }
 ],
 "metadata": {
  "kernelspec": {
   "display_name": "base",
   "language": "python",
   "name": "python3"
  },
  "language_info": {
   "codemirror_mode": {
    "name": "ipython",
    "version": 3
   },
   "file_extension": ".py",
   "mimetype": "text/x-python",
   "name": "python",
   "nbconvert_exporter": "python",
   "pygments_lexer": "ipython3",
   "version": "3.9.7"
  }
 },
 "nbformat": 4,
 "nbformat_minor": 2
}
